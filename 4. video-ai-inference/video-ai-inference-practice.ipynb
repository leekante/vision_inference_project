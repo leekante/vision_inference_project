{
 "cells": [
  {
   "cell_type": "code",
   "execution_count": null,
   "metadata": {},
   "outputs": [],
   "source": [
    "import os\n",
    "import yt_dlp\n",
    "import cv2\n",
    "from ultralytics import YOLO\n",
    "from moviepy.editor import ImageSequenceClip"
   ]
  },
  {
   "cell_type": "markdown",
   "metadata": {},
   "source": [
    "### 1. Yutube 영상 다운로드"
   ]
  },
  {
   "cell_type": "code",
   "execution_count": null,
   "metadata": {},
   "outputs": [],
   "source": [
    "# 다운로드할 YouTube URL\n",
    "url = \"\"\n",
    "\n",
    "# yt-dlp 설정\n",
    "ydl_opts = {\n",
    "    \"format\": \"best\",\n",
    "    \"outtmpl\": \"downloaded_video.%(ext)s\",\n",
    "}\n",
    "\n",
    "# 다운로드\n",
    "with yt_dlp.YoutubeDL(ydl_opts) as ydl:\n",
    "    ydl.download([url])"
   ]
  },
  {
   "cell_type": "markdown",
   "metadata": {},
   "source": [
    "### 2. 동영상의 fps 정보"
   ]
  },
  {
   "cell_type": "code",
   "execution_count": null,
   "metadata": {},
   "outputs": [],
   "source": [
    "# 동영상 파일 경로\n",
    "video_path = \"downloaded_video.mp4\"\n",
    "\n",
    "# 동영상 파일 열기\n",
    "cap = cv2.VideoCapture(video_path)\n",
    "\n",
    "# FPS 가져오기\n",
    "fps = cap.get(cv2.CAP_PROP_FPS)\n",
    "print(\"FPS:\", fps)\n",
    "\n",
    "# 동영상 파일 닫기\n",
    "cap.release()"
   ]
  },
  {
   "cell_type": "markdown",
   "metadata": {},
   "source": [
    "### 3. 동영상을 프레임 단위로 분할"
   ]
  },
  {
   "cell_type": "code",
   "execution_count": null,
   "metadata": {},
   "outputs": [],
   "source": [
    "video_path = \"downloaded_video.mp4\"\n",
    "\n",
    "# cv2를 이용해 동영상 파일 열기\n",
    "cap = cv2.VideoCapture(video_path)\n",
    "\n",
    "# 프레임을 저장할 디렉토리 생성\n",
    "output_dir = \"frames\"\n",
    "os.makedirs(output_dir, exist_ok=True)\n",
    "\n",
    "# 프레임 단위로 이미지로 저장\n",
    "frame_count = 0\n",
    "while cap.isOpened():\n",
    "    ret, frame = cap.read()\n",
    "    if not ret:\n",
    "        break\n",
    "    # 이미지 파일로 프레임 저장\n",
    "    frame_path = os.path.join(output_dir, f\"frame_{frame_count:04d}.jpg\")\n",
    "    cv2.imwrite(frame_path, frame)\n",
    "    frame_count += 1\n",
    "\n",
    "# 동영상 파일 닫기\n",
    "cap.release()\n",
    "print(f\"총 {frame_count}개의 프레임이 저장되었습니다.\")"
   ]
  },
  {
   "cell_type": "markdown",
   "metadata": {},
   "source": [
    "### 4. YOLOv8 추론"
   ]
  },
  {
   "cell_type": "code",
   "execution_count": null,
   "metadata": {},
   "outputs": [],
   "source": [
    "# Load a model\n",
    "model = YOLO(\"yolov8n.pt\")  # pretrained YOLO8n model\n",
    "\n",
    "# \"frames\" 디렉토리 안에 있는 파일과 폴더 목록을 가져옴\n",
    "frames = os.listdir(\"frames/\")\n",
    "\n",
    "# 원하는 디렉토리 경로 설정\n",
    "directory_path = \"results\"\n",
    "\n",
    "# 디렉토리가 없으면 생성\n",
    "if not os.path.exists(directory_path):\n",
    "    os.makedirs(directory_path)\n",
    "    print(f\"디렉토리 '{directory_path}'가 생성되었어.\")\n",
    "else:\n",
    "    print(f\"디렉토리 '{directory_path}'가 이미 존재해.\")\n",
    "\n",
    "for frame in frames:\n",
    "    # YOLOv8 모델을 사용하여 객체 감지 수행\n",
    "    results = model(\"frames/\" + frame)  # , device=\"mps\" (맥북)\n",
    "\n",
    "    # Process results list\n",
    "    for result in results:\n",
    "        result.save(filename=\"results/\" + frame)  # save to disk"
   ]
  },
  {
   "cell_type": "markdown",
   "metadata": {},
   "source": [
    "### 5. 프레임을 동영상으로 변환 - moviepy 라이브러리"
   ]
  },
  {
   "cell_type": "code",
   "execution_count": null,
   "metadata": {},
   "outputs": [],
   "source": [
    "# 이미지 파일들이 저장된 디렉토리 경로\n",
    "image_folder = \"results\"  # 이미지 파일들이 있는 폴더 경로\n",
    "fps = int(fps)  # 초당 프레임 수 설정\n",
    "\n",
    "# 이미지 파일 리스트 가져오기 (예: jpg, png 형식)\n",
    "image_files = [\n",
    "    os.path.join(image_folder, img)\n",
    "    for img in sorted(os.listdir(image_folder))\n",
    "    if img.endswith((\".jpg\", \".png\"))\n",
    "]\n",
    "\n",
    "# 이미지 시퀀스를 이용해 클립 생성\n",
    "clip = ImageSequenceClip(image_files, fps=fps)\n",
    "\n",
    "# 동영상 파일로 저장\n",
    "output_path = \"output_video.mp4\"\n",
    "clip.write_videofile(output_path, codec=\"libx264\")\n",
    "\n",
    "print(f\"동영상이 생성되었습니다: {output_path}\")"
   ]
  }
 ],
 "metadata": {
  "kernelspec": {
   "display_name": "Python 3",
   "language": "python",
   "name": "python3"
  },
  "language_info": {
   "codemirror_mode": {
    "name": "ipython",
    "version": 3
   },
   "file_extension": ".py",
   "mimetype": "text/x-python",
   "name": "python",
   "nbconvert_exporter": "python",
   "pygments_lexer": "ipython3",
   "version": "3.11.7"
  }
 },
 "nbformat": 4,
 "nbformat_minor": 2
}
