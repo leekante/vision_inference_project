{
 "cells": [
  {
   "cell_type": "code",
   "execution_count": 1,
   "metadata": {},
   "outputs": [],
   "source": [
    "from ultralytics import YOLO\n",
    "import cv2"
   ]
  },
  {
   "cell_type": "code",
   "execution_count": 2,
   "metadata": {},
   "outputs": [],
   "source": [
    "# 이미지 불러오기\n",
    "image = cv2.imread('sample.jpg')"
   ]
  },
  {
   "cell_type": "code",
   "execution_count": 3,
   "metadata": {},
   "outputs": [],
   "source": [
    "# Load a COCO-pretrained YOLOv8n model\n",
    "model = YOLO(\"yolov8n.pt\")"
   ]
  },
  {
   "cell_type": "code",
   "execution_count": 4,
   "metadata": {},
   "outputs": [
    {
     "name": "stdout",
     "output_type": "stream",
     "text": [
      "\n",
      "0: 384x640 6 persons, 36.6ms\n",
      "Speed: 2.0ms preprocess, 36.6ms inference, 0.8ms postprocess per image at shape (1, 3, 384, 640)\n"
     ]
    }
   ],
   "source": [
    "# Run inference with the YOLOv8n model on the 'bus.jpg' image\n",
    "results = model(image, classes=0)"
   ]
  },
  {
   "cell_type": "code",
   "execution_count": 5,
   "metadata": {},
   "outputs": [
    {
     "data": {
      "text/plain": [
       "array([[[ 62,  72,  56],\n",
       "        [ 47,  57,  41],\n",
       "        [ 46,  55,  42],\n",
       "        ...,\n",
       "        [ 88, 100, 110],\n",
       "        [ 91, 103, 113],\n",
       "        [ 95, 107, 117]],\n",
       "\n",
       "       [[ 69,  79,  63],\n",
       "        [ 54,  64,  48],\n",
       "        [ 55,  64,  51],\n",
       "        ...,\n",
       "        [ 92, 104, 114],\n",
       "        [ 95, 107, 117],\n",
       "        [ 94, 106, 116]],\n",
       "\n",
       "       [[ 63,  73,  57],\n",
       "        [ 53,  63,  47],\n",
       "        [ 57,  66,  53],\n",
       "        ...,\n",
       "        [100, 114, 126],\n",
       "        [105, 119, 131],\n",
       "        [104, 118, 130]],\n",
       "\n",
       "       ...,\n",
       "\n",
       "       [[138, 135, 131],\n",
       "        [139, 136, 132],\n",
       "        [140, 137, 133],\n",
       "        ...,\n",
       "        [140, 141, 137],\n",
       "        [142, 141, 137],\n",
       "        [142, 143, 139]],\n",
       "\n",
       "       [[141, 138, 134],\n",
       "        [141, 138, 134],\n",
       "        [140, 137, 133],\n",
       "        ...,\n",
       "        [100,  99,  95],\n",
       "        [101,  98,  94],\n",
       "        [105, 104, 100]],\n",
       "\n",
       "       [[143, 140, 136],\n",
       "        [141, 138, 134],\n",
       "        [140, 137, 133],\n",
       "        ...,\n",
       "        [121, 118, 114],\n",
       "        [131, 126, 123],\n",
       "        [147, 144, 140]]], dtype=uint8)"
      ]
     },
     "execution_count": 5,
     "metadata": {},
     "output_type": "execute_result"
    }
   ],
   "source": [
    "# 사람 수 계산\n",
    "person_count = sum(1 for result in results[0].boxes)\n",
    "\n",
    "# 사람 수를 이미지 왼쪽 위에 출력\n",
    "label = f'People count: {person_count}'\n",
    "cv2.putText(image, label, (10, 30), cv2.FONT_HERSHEY_SIMPLEX, 1, (0, 0, 255), 2)"
   ]
  },
  {
   "cell_type": "code",
   "execution_count": null,
   "metadata": {},
   "outputs": [],
   "source": [
    "# 결과 이미지 보기\n",
    "cv2.imshow('YOLOv8 Prediction', image)\n",
    "cv2.waitKey(0)\n",
    "cv2.destroyAllWindows()"
   ]
  }
 ],
 "metadata": {
  "kernelspec": {
   "display_name": "Python 3",
   "language": "python",
   "name": "python3"
  },
  "language_info": {
   "codemirror_mode": {
    "name": "ipython",
    "version": 3
   },
   "file_extension": ".py",
   "mimetype": "text/x-python",
   "name": "python",
   "nbconvert_exporter": "python",
   "pygments_lexer": "ipython3",
   "version": "3.11.7"
  }
 },
 "nbformat": 4,
 "nbformat_minor": 2
}
