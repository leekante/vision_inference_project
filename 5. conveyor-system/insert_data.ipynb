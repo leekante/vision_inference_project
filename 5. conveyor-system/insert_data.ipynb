{
 "cells": [
  {
   "cell_type": "code",
   "execution_count": 46,
   "metadata": {},
   "outputs": [],
   "source": [
    "import sqlite3\n",
    "import uuid\n",
    "from datetime import datetime"
   ]
  },
  {
   "cell_type": "code",
   "execution_count": 47,
   "metadata": {},
   "outputs": [],
   "source": [
    "# 데이터베이스 연결\n",
    "conn = sqlite3.connect('example.db')\n",
    "cursor = conn.cursor()"
   ]
  },
  {
   "cell_type": "code",
   "execution_count": 48,
   "metadata": {},
   "outputs": [],
   "source": [
    "# 데이터 삽입 함수\n",
    "def insert_data(datetime_value, uuid_value, is_defective, defect_reason=None):\n",
    "    insert_query = '''\n",
    "    INSERT INTO 제품 (datetime, uuid, is_defective, defect_reason)\n",
    "    VALUES (?, ?, ?, ?)\n",
    "    '''\n",
    "    cursor.execute(insert_query, (datetime_value, uuid_value, is_defective, defect_reason))\n",
    "    conn.commit()"
   ]
  },
  {
   "cell_type": "code",
   "execution_count": null,
   "metadata": {},
   "outputs": [],
   "source": [
    "# 데이터 예제\n",
    "datetime_value = datetime.now().strftime(\"%Y-%m-%d %H:%M:%S\")  # 현재 날짜와 시간\n",
    "uuid_value = str(uuid.uuid4())  # UUID 생성\n",
    "is_defective = 1  # 불량품인 경우 (1: 불량, 0: 양품)\n",
    "defect_reason = \"스크래치 있음\"  # 불량 사유 (양품인 경우 None 또는 생략 가능)"
   ]
  },
  {
   "cell_type": "code",
   "execution_count": 50,
   "metadata": {},
   "outputs": [],
   "source": [
    "# 데이터 삽입 호출\n",
    "insert_data(datetime_value, uuid_value, is_defective, defect_reason)\n",
    "\n",
    "# 연결 종료\n",
    "conn.close()"
   ]
  }
 ],
 "metadata": {
  "kernelspec": {
   "display_name": "Python 3",
   "language": "python",
   "name": "python3"
  },
  "language_info": {
   "codemirror_mode": {
    "name": "ipython",
    "version": 3
   },
   "file_extension": ".py",
   "mimetype": "text/x-python",
   "name": "python",
   "nbconvert_exporter": "python",
   "pygments_lexer": "ipython3",
   "version": "3.11.7"
  }
 },
 "nbformat": 4,
 "nbformat_minor": 2
}
